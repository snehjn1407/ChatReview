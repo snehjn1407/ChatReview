{
  "nbformat": 4,
  "nbformat_minor": 0,
  "metadata": {
    "colab": {
      "provenance": [],
      "authorship_tag": "ABX9TyMrtdEknS9JVTqJHqjy4Mku",
      "include_colab_link": true
    },
    "kernelspec": {
      "name": "python3",
      "display_name": "Python 3"
    },
    "language_info": {
      "name": "python"
    }
  },
  "cells": [
    {
      "cell_type": "markdown",
      "metadata": {
        "id": "view-in-github",
        "colab_type": "text"
      },
      "source": [
        "<a href=\"https://colab.research.google.com/github/snehjn1407/ChatReview/blob/main/LLM.ipynb\" target=\"_parent\"><img src=\"https://colab.research.google.com/assets/colab-badge.svg\" alt=\"Open In Colab\"/></a>"
      ]
    },
    {
      "cell_type": "code",
      "execution_count": null,
      "metadata": {
        "colab": {
          "base_uri": "https://localhost:8080/"
        },
        "id": "aE6VFlz8thBz",
        "outputId": "1d3f2bf4-0d01-4c16-9ad8-d64f55d13bc3"
      },
      "outputs": [
        {
          "output_type": "stream",
          "name": "stdout",
          "text": [
            "\u001b[?25l   \u001b[90m━━━━━━━━━━━━━━━━━━━━━━━━━━━━━━━━━━━━━━━━\u001b[0m \u001b[32m0.0/786.8 kB\u001b[0m \u001b[31m?\u001b[0m eta \u001b[36m-:--:--\u001b[0m\r\u001b[2K   \u001b[91m━━━━━━━━━━━━━━━━━━━━━━━━━━━━━━━━━━━━━━━\u001b[0m\u001b[91m╸\u001b[0m \u001b[32m778.2/786.8 kB\u001b[0m \u001b[31m30.2 MB/s\u001b[0m eta \u001b[36m0:00:01\u001b[0m\r\u001b[2K   \u001b[90m━━━━━━━━━━━━━━━━━━━━━━━━━━━━━━━━━━━━━━━━\u001b[0m \u001b[32m786.8/786.8 kB\u001b[0m \u001b[31m16.8 MB/s\u001b[0m eta \u001b[36m0:00:00\u001b[0m\n",
            "\u001b[?25h\u001b[?25l   \u001b[90m━━━━━━━━━━━━━━━━━━━━━━━━━━━━━━━━━━━━━━━━\u001b[0m \u001b[32m0.0/253.0 kB\u001b[0m \u001b[31m?\u001b[0m eta \u001b[36m-:--:--\u001b[0m\r\u001b[2K   \u001b[90m━━━━━━━━━━━━━━━━━━━━━━━━━━━━━━━━━━━━━━━━\u001b[0m \u001b[32m253.0/253.0 kB\u001b[0m \u001b[31m16.7 MB/s\u001b[0m eta \u001b[36m0:00:00\u001b[0m\n",
            "\u001b[?25h\u001b[?25l   \u001b[90m━━━━━━━━━━━━━━━━━━━━━━━━━━━━━━━━━━━━━━━━\u001b[0m \u001b[32m0.0/8.7 MB\u001b[0m \u001b[31m?\u001b[0m eta \u001b[36m-:--:--\u001b[0m\r\u001b[2K   \u001b[91m━━━━━━━━━━━━━━━━━━━━━━\u001b[0m\u001b[90m╺\u001b[0m\u001b[90m━━━━━━━━━━━━━━━━━\u001b[0m \u001b[32m4.8/8.7 MB\u001b[0m \u001b[31m144.2 MB/s\u001b[0m eta \u001b[36m0:00:01\u001b[0m\r\u001b[2K   \u001b[91m━━━━━━━━━━━━━━━━━━━━━━━━━━━━━━━━━━━━━━━\u001b[0m\u001b[91m╸\u001b[0m \u001b[32m8.7/8.7 MB\u001b[0m \u001b[31m160.9 MB/s\u001b[0m eta \u001b[36m0:00:01\u001b[0m\r\u001b[2K   \u001b[90m━━━━━━━━━━━━━━━━━━━━━━━━━━━━━━━━━━━━━━━━\u001b[0m \u001b[32m8.7/8.7 MB\u001b[0m \u001b[31m91.8 MB/s\u001b[0m eta \u001b[36m0:00:00\u001b[0m\n",
            "\u001b[?25h"
          ]
        }
      ],
      "source": [
        "# --- Step 0: Install required packages & auto-restart ---\n",
        "!pip install --upgrade openai python-docx matplotlib --quiet\n",
        "import os\n",
        "os._exit(0)  # Forces Colab to restart after install (important!)\n",
        "\n",
        "# After restart, start from Step 1 below\n"
      ]
    },
    {
      "cell_type": "code",
      "source": [
        "# --- Step 1: Import libraries ---\n",
        "import openai\n",
        "from docx import Document\n",
        "import matplotlib.pyplot as plt\n",
        "\n",
        "# --- Step 2: Set API key ---\n",
        "openai.api_key = \"YOUR_API_KEY\"  # replace with your OpenAI API key\n",
        "\n",
        "# --- Step 3: Example function to create docx & graph ---\n",
        "def create_report(text, filename=\"report.docx\"):\n",
        "    doc = Document()\n",
        "    doc.add_heading(\"AI Generated Report\", level=1)\n",
        "    doc.add_paragraph(text)\n",
        "    doc.save(filename)\n",
        "    print(f\"Saved: {filename}\")\n",
        "\n",
        "# Example plot\n",
        "def create_plot():\n",
        "    x = [1, 2, 3, 4, 5]\n",
        "    y = [n**2 for n in x]\n",
        "    plt.plot(x, y, marker='o')\n",
        "    plt.title(\"Example Plot\")\n",
        "    plt.xlabel(\"X-axis\")\n",
        "    plt.ylabel(\"Y-axis\")\n",
        "    plt.show()\n",
        "\n",
        "# --- Step 4: Example run ---\n",
        "sample_text = \"This is a sample AI-generated report text.\"\n",
        "create_report(sample_text)\n",
        "create_plot()\n"
      ],
      "metadata": {
        "colab": {
          "base_uri": "https://localhost:8080/",
          "height": 489
        },
        "id": "CO-VpmZ5tzmk",
        "outputId": "8e1686e3-180a-4775-8936-74643b891112"
      },
      "execution_count": 1,
      "outputs": [
        {
          "output_type": "stream",
          "name": "stdout",
          "text": [
            "Saved: report.docx\n"
          ]
        },
        {
          "output_type": "display_data",
          "data": {
            "text/plain": [
              "<Figure size 640x480 with 1 Axes>"
            ],
            "image/png": "[encoded data removed]"
          },
          "metadata": {}
        }
      ]
    },
    {
      "cell_type": "code",
      "source": [
        "question_1 = \"\"\"\n",
        "@title Sports Kit Combinatorics with Constraints\n",
        "@description Determine the number of valid sports kits given colors and pairing constraints.\n",
        "\n",
        "@question At Lakeside Academy an athlete's kit consists of exactly 1 jersey, 1 pair of shorts, and 1 pair of shoes. Available options are shown in the table below.\n",
        "\n",
        "| Jersey | Shorts | Shoes |\n",
        "| :---: | :---: | :---: |\n",
        "| Blue | Black | White |\n",
        "| Red | Grey | Black |\n",
        "| Green | Navy | Red |\n",
        "| Yellow |  |  |\n",
        "\n",
        "Constraints:\n",
        "- The Green jersey may not be paired with Grey shorts.\n",
        "- The Yellow jersey is available only with Black shorts.\n",
        "- If the jersey is Red, the shoes cannot be Red.\n",
        "\n",
        "How many different valid sports kits are possible under these rules?\n",
        "\n",
        "@instruction Select the correct number of valid kits.\n",
        "@difficulty moderate\n",
        "@Order 1\n",
        "@option 18\n",
        "@option 20\n",
        "@@option 24\n",
        "@option 22\n",
        "@option 26\n",
        "@explanation\n",
        "Count all combinations then remove invalid ones.\n",
        "Total combinations without constraints = \\(4 \\times 3 \\times 3 = 36.\\)\n",
        "Invalid combos:\n",
        "- Green + Grey shorts: \\(1 \\times 1 \\times 3 = 3.\\)\n",
        "- Yellow with non-Black shorts (Grey or Navy): \\(1 \\times 2 \\times 3 = 6.\\)\n",
        "- Red jersey with Red shoes: \\(1 \\times 3 \\times 1 = 3.\\)\n",
        "Total invalid = \\(3+6+3 = 12.\\)\n",
        "Valid = \\(36 - 12 = 24.\\)\n",
        "@subject Quantitative Math\n",
        "@unit Problem Solving\n",
        "@topic Counting & Arrangement Problems\n",
        "@plusmarks 1\n",
        "\"\"\"\n"
      ],
      "metadata": {
        "id": "SX0A-H4Jt4Ns"
      },
      "execution_count": 2,
      "outputs": []
    },
    {
      "cell_type": "code",
      "source": [
        "'''@title Hexagonal Packing — Crate Dimensions\n",
        "@description Find the closest rectangular crate dimensions (length × width × height) needed to hold 6 identical spheres arranged in a compact (staggered) pattern.\n",
        "\n",
        "@question A rectangular crate contains 6 identical solid spheres arranged in two staggered rows (a hexagonal close packing in the top view) with three spheres in each row. Each sphere has radius \\(3\\) cm. The second row is offset so each sphere in row 2 sits in a small gap between two adjacent spheres in row 1. The crate fits the spheres tightly in length and height directions (but allow minimal clearance for the box walls). What are the closest dimensions, in centimeters, of the rectangular crate (length × width × height)?\n",
        "\n",
        "@instruction Choose the option that best matches the crate dimensions (round dimensions to the nearest sensible option).\n",
        "@difficulty moderate\n",
        "@Order 2\n",
        "@option \\(18 \\times 10 \\times 6\\)\n",
        "@option \\(18 \\times 11 \\times 6\\)\n",
        "@@option \\(18 \\times 12 \\times 6\\)\n",
        "@option \\(24 \\times 12 \\times 6\\)\n",
        "@option \\(18 \\times 12 \\times 12\\)\n",
        "@explanation\n",
        "For hexagonal/top staggered packing:\n",
        "- Sphere diameter = \\(2r = 6\\) cm → crate height = \\(6\\) cm.\n",
        "- Horizontal span (length) for 3 in a row: length ≈ \\(6r = 18\\) cm.\n",
        "- Vertical offset between rows = \\(r\\sqrt{3}\\). Total width ≈ \\(r\\sqrt{3} + 2r = 3(\\sqrt{3}+2) \\approx 11.196\\) cm → nearest sensible option: \\(12\\) cm.\n",
        "Thus dimensions ≈ \\(18 \\times 11.2 \\times 6\\) → choose \\(18 \\times 12 \\times 6\\).\n",
        "@subject Quantitative Math\n",
        "@unit Problem Solving\n",
        "@topic Geometry\n",
        "@plusmarks 1'''\n"
      ],
      "metadata": {
        "colab": {
          "base_uri": "https://localhost:8080/",
          "height": 122
        },
        "id": "-TYwVphWt8bQ",
        "outputId": "93261f2a-548c-44e0-b1a9-a9ea24658d30"
      },
      "execution_count": 3,
      "outputs": [
        {
          "output_type": "execute_result",
          "data": {
            "text/plain": [
              "'@title Hexagonal Packing — Crate Dimensions\\n@description Find the closest rectangular crate dimensions (length × width × height) needed to hold 6 identical spheres arranged in a compact (staggered) pattern.\\n\\n@question A rectangular crate contains 6 identical solid spheres arranged in two staggered rows (a hexagonal close packing in the top view) with three spheres in each row. Each sphere has radius \\\\(3\\\\) cm. The second row is offset so each sphere in row 2 sits in a small gap between two adjacent spheres in row 1. The crate fits the spheres tightly in length and height directions (but allow minimal clearance for the box walls). What are the closest dimensions, in centimeters, of the rectangular crate (length × width × height)?\\n\\n@instruction Choose the option that best matches the crate dimensions (round dimensions to the nearest sensible option).\\n@difficulty moderate\\n@Order 2\\n@option \\\\(18 \\times 10 \\times 6\\\\)\\n@option \\\\(18 \\times 11 \\times 6\\\\)\\n@@option \\\\(18 \\times 12 \\times 6\\\\)\\n@option \\\\(24 \\times 12 \\times 6\\\\)\\n@option \\\\(18 \\times 12 \\times 12\\\\)\\n@explanation\\nFor hexagonal/top staggered packing:\\n- Sphere diameter = \\\\(2r = 6\\\\) cm → crate height = \\\\(6\\\\) cm.\\n- Horizontal span (length) for 3 in a row: length ≈ \\\\(6r = 18\\\\) cm.\\n- Vertical offset between rows = \\\\(r\\\\sqrt{3}\\\\). Total width ≈ \\\\(r\\\\sqrt{3} + 2r = 3(\\\\sqrt{3}+2) \\x07pprox 11.196\\\\) cm → nearest sensible option: \\\\(12\\\\) cm.\\nThus dimensions ≈ \\\\(18 \\times 11.2 \\times 6\\\\) → choose \\\\(18 \\times 12 \\times 6\\\\).\\n@subject Quantitative Math\\n@unit Problem Solving\\n@topic Geometry\\n@plusmarks 1'"
            ],
            "application/vnd.google.colaboratory.intrinsic+json": {
              "type": "string"
            }
          },
          "metadata": {},
          "execution_count": 3
        }
      ]
    },
    {
      "cell_type": "code",
      "source": [
        "# Install packages (if not already installed)\n",
        "!pip install --upgrade python-docx matplotlib --quiet\n",
        "\n",
        "# ---- Python code to create images and write docx ----\n",
        "import os, math\n",
        "from docx import Document\n",
        "from docx.shared import Inches\n",
        "import matplotlib.pyplot as plt\n",
        "\n",
        "# Create images dir\n",
        "os.makedirs(\"images\", exist_ok=True)\n",
        "\n",
        "# ----- Diagram for Question 1 (table) -----\n",
        "fig, ax = plt.subplots(figsize=(5,2.2))\n",
        "ax.axis('off')\n",
        "table_data = [\n",
        "    [\"Blue\", \"Black\", \"White\"],\n",
        "    [\"Red\", \"Grey\", \"Black\"],\n",
        "    [\"Green\", \"Navy\", \"Red\"],\n",
        "    [\"Yellow\", \"Black\", \"\"]\n",
        "]\n",
        "tbl = ax.table(cellText=table_data,\n",
        "               colLabels=[\"Jersey\", \"Shorts\", \"Shoes\"],\n",
        "               cellLoc='center',\n",
        "               loc='center')\n",
        "tbl.auto_set_font_size(False)\n",
        "tbl.set_fontsize(10)\n",
        "tbl.scale(1, 1.5)\n",
        "plt.tight_layout()\n",
        "plt.savefig(\"images/q1_table.png\", bbox_inches='tight', dpi=200)\n",
        "plt.close()\n",
        "\n",
        "# ----- Diagrams for Question 2 (top view and side view) -----\n",
        "r = 3  # sphere radius in cm (for conceptual scaling)\n",
        "scale = 12  # scaling factor for plotting so circles look good in image\n",
        "\n",
        "# Top view: two staggered rows of 3 spheres\n",
        "fig, ax = plt.subplots(figsize=(6,2.8))\n",
        "# Row1 centers: x = 0, 2r, 4r ; y = 0\n",
        "# Row2 centers: x = r, 3r, 5r ; y = r*sqrt(3)\n",
        "row1_x = [0, 2*r, 4*r]\n",
        "row2_x = [r, 3*r, 5*r]\n",
        "row1_y = 0\n",
        "row2_y = r * math.sqrt(3)\n",
        "\n",
        "# circle radius for plotting\n",
        "plot_r = r * scale * 0.25\n",
        "\n",
        "# add circles\n",
        "for x in row1_x:\n",
        "    circ = plt.Circle((x*scale, row1_y*scale), plot_r, fill=False, linewidth=1.5)\n",
        "    ax.add_artist(circ)\n",
        "for x in row2_x:\n",
        "    circ = plt.Circle((x*scale, row2_y*scale), plot_r, fill=False, linewidth=1.5)\n",
        "    ax.add_artist(circ)\n",
        "\n",
        "# set limits and title\n",
        "min_x = -r*scale\n",
        "max_x = (6*r + r)*scale\n",
        "min_y = -r*scale\n",
        "max_y = (row2_y + r)*scale\n",
        "ax.set_xlim(min_x, max_x)\n",
        "ax.set_ylim(min_y, max_y*1.05)\n",
        "ax.set_aspect('equal')\n",
        "ax.set_title(\"Top view: 2 staggered rows of 3 spheres\")\n",
        "plt.axis('off')\n",
        "plt.savefig(\"images/q2_top.png\", bbox_inches='tight', dpi=200)\n",
        "plt.close()\n",
        "\n",
        "# Side view: crate rectangle showing height = diameter\n",
        "fig2, ax2 = plt.subplots(figsize=(6,1.4))\n",
        "box_length = 18  # cm estimate\n",
        "box_height = 6   # cm (diameter)\n",
        "# draw rectangle\n",
        "ax2.add_patch(plt.Rectangle((0,0), box_length, box_height, fill=False, linewidth=1.5))\n",
        "ax2.set_xlim(-1, box_length+1)\n",
        "ax2.set_ylim(-1, box_height+1)\n",
        "ax2.set_title(\"Side view: crate height = diameter = 6 cm\")\n",
        "plt.axis('off')\n",
        "plt.savefig(\"images/q2_side.png\", bbox_inches='tight', dpi=200)\n",
        "plt.close()\n",
        "\n",
        "# ----- Build the .docx -----\n",
        "doc = Document()\n",
        "doc.add_heading(\"Generated Math Questions (LLM-created) — Submission\", level=1)\n",
        "\n",
        "# Q1 block (as plain text)\n",
        "q1_block = \"\"\"@title Sports Kit Combinatorics with Constraints\n",
        "@description Determine the number of valid sports kits given colors and pairing constraints.\n",
        "\n",
        "@question At Lakeside Academy an athlete's kit consists of exactly 1 jersey, 1 pair of shorts, and 1 pair of shoes. Available options are shown in the table below.\n",
        "\n",
        "| Jersey | Shorts | Shoes |\n",
        "| :---: | :---: | :---: |\n",
        "| Blue | Black | White |\n",
        "| Red | Grey | Black |\n",
        "| Green | Navy | Red |\n",
        "| Yellow |  |  |\n",
        "\n",
        "Constraints:\n",
        "- The Green jersey may not be paired with Grey shorts.\n",
        "- The Yellow jersey is available only with Black shorts.\n",
        "- If the jersey is Red, the shoes cannot be Red.\n",
        "\n",
        "How many different valid sports kits are possible under these rules?\n",
        "\n",
        "@instruction Select the correct number of valid kits.\n",
        "@difficulty moderate\n",
        "@Order 1\n",
        "@option 18\n",
        "@option 20\n",
        "@@option 24\n",
        "@option 22\n",
        "@option 26\n",
        "@explanation\n",
        "Count all combinations then remove invalid ones.\n",
        "Total combinations without constraints = 4 x 3 x 3 = 36.\n",
        "Invalid combos:\n",
        "- Green + Grey shorts: 3.\n",
        "- Yellow with non-Black shorts: 6.\n",
        "- Red jersey with Red shoes: 3.\n",
        "Valid = 36 - 12 = 24.\n",
        "@subject Quantitative Math\n",
        "@unit Problem Solving\n",
        "@topic Counting & Arrangement Problems\n",
        "@plusmarks 1\n",
        "\"\"\"\n",
        "doc.add_paragraph(q1_block)\n",
        "doc.add_paragraph()\n",
        "doc.add_heading(\"Diagram for Question 1\", level=3)\n",
        "doc.add_picture(\"images/q1_table.png\", width=Inches(5))\n",
        "\n",
        "doc.add_page_break()\n",
        "\n",
        "# Q2 block\n",
        "q2_block = \"\"\"@title Hexagonal Packing — Crate Dimensions\n",
        "@description Find the closest rectangular crate dimensions (length × width × height) needed to hold 6 identical spheres arranged in a compact (staggered) pattern.\n",
        "\n",
        "@question A rectangular crate contains 6 identical solid spheres arranged in two staggered rows (a hexagonal close packing in the top view) with three spheres in each row. Each sphere has radius 3 cm. The second row is offset so each sphere in row 2 sits in a small gap between two adjacent spheres in row 1. The crate fits the spheres tightly in length and height directions (but allow minimal clearance for the box walls). What are the closest dimensions, in centimeters, of the rectangular crate (length × width × height)?\n",
        "\n",
        "@instruction Choose the option that best matches the crate dimensions (round dimensions to the nearest sensible option).\n",
        "@difficulty moderate\n",
        "@Order 2\n",
        "@option (18 x 10 x 6)\n",
        "@option (18 x 11 x 6)\n",
        "@@option (18 x 12 x 6)\n",
        "@option (24 x 12 x 6)\n",
        "@option (18 x 12 x 12)\n",
        "@explanation\n",
        "For hexagonal/top staggered packing:\n",
        "- Sphere diameter = 2r = 6 cm → crate height = 6 cm.\n",
        "- Horizontal span (length) for 3 in a row leads to length = 6r = 18 cm.\n",
        "- Vertical spacing between the centers of the two rows = r*sqrt(3).\n",
        "  Total width = r*sqrt(3) + 2r ≈ 11.196 cm → nearest sensible = 12 cm.\n",
        "@subject Quantitative Math\n",
        "@unit Problem Solving\n",
        "@topic Geometry\n",
        "@plusmarks 1\n",
        "\"\"\"\n",
        "doc.add_paragraph(q2_block)\n",
        "doc.add_paragraph()\n",
        "doc.add_heading(\"Top view diagram for Question 2\", level=3)\n",
        "doc.add_picture(\"images/q2_top.png\", width=Inches(6))\n",
        "doc.add_paragraph()\n",
        "doc.add_heading(\"Side view diagram for Question 2\", level=3)\n",
        "doc.add_picture(\"images/q2_side.png\", width=Inches(6))\n",
        "\n",
        "# Save\n",
        "outname = \"Assignment_Generated_Questions.docx\"\n",
        "doc.save(outname)\n",
        "print(\"Saved:\", outname, \"— download from Colab file browser (left panel).\")\n"
      ],
      "metadata": {
        "colab": {
          "base_uri": "https://localhost:8080/"
        },
        "id": "0geZU2ASt90Q",
        "outputId": "d3ff5edf-1159-4d2d-c984-5869d72526f3"
      },
      "execution_count": 4,
      "outputs": [
        {
          "output_type": "stream",
          "name": "stdout",
          "text": [
            "Saved: Assignment_Generated_Questions.docx — download from Colab file browser (left panel).\n"
          ]
        }
      ]
    },
    {
      "cell_type": "code",
      "source": [
        "# Athlete Kit Combination Calculator - Extended Version\n",
        "\n",
        "# Available options\n",
        "jerseys = [\"Red\", \"Blue\", \"White\"]\n",
        "shorts = [\"Black\", \"White\"]\n",
        "shoes = [\"Running\", \"Sneakers\", \"Spikes\"]\n",
        "\n",
        "# Step 1: Display available options\n",
        "print(\"=== Lakeside Academy Athlete's Kit Options ===\")\n",
        "print(f\"Jerseys: {', '.join(jerseys)}\")\n",
        "print(f\"Shorts: {', '.join(shorts)}\")\n",
        "print(f\"Shoes: {', '.join(shoes)}\\n\")\n",
        "\n",
        "# Step 2: Calculate total combinations\n",
        "total_combinations = len(jerseys) * len(shorts) * len(shoes)\n",
        "print(f\"Total possible kits: {total_combinations}\\n\")\n",
        "\n",
        "# Step 3: List all possible combinations in a table\n",
        "print(\"=== All Possible Kits ===\")\n",
        "kit_number = 1\n",
        "for jersey in jerseys:\n",
        "    for short in shorts:\n",
        "        for shoe in shoes:\n",
        "            print(f\"{kit_number}. Jersey: {jersey}, Shorts: {short}, Shoes: {shoe}\")\n",
        "            kit_number += 1\n",
        "\n",
        "# Step 4: Allow user to choose a kit\n",
        "choice = int(input(\"\\nEnter the kit number you like (1 - {0}): \".format(total_combinations)))\n",
        "\n",
        "# Step 5: Show chosen kit\n",
        "kit_number = 1\n",
        "selected_kit = None\n",
        "for jersey in jerseys:\n",
        "    for short in shorts:\n",
        "        for shoe in shoes:\n",
        "            if kit_number == choice:\n",
        "                selected_kit = (jersey, short, shoe)\n",
        "            kit_number += 1\n",
        "\n",
        "if selected_kit:\n",
        "    print(f\"\\n✅ You chose: Jersey: {selected_kit[0]}, Shorts: {selected_kit[1]}, Shoes: {selected_kit[2]}\")\n",
        "else:\n",
        "    print(\"\\n❌ Invalid choice! Please run the program again.\")\n"
      ],
      "metadata": {
        "colab": {
          "base_uri": "https://localhost:8080/"
        },
        "id": "R13X3esfuPj_",
        "outputId": "ccbf413a-c3d8-42da-c8c7-b8c02d870ee5"
      },
      "execution_count": 7,
      "outputs": [
        {
          "output_type": "stream",
          "name": "stdout",
          "text": [
            "\n",
            "Enter the kit number you like (1 - 18): 2\n",
            "=== Lakeside Academy Athlete's Kit Options ===\n",
            "Jerseys: Red, Blue, White\n",
            "Shorts: Black, White\n",
            "Shoes: Running, Sneakers, Spikes\n",
            "\n",
            "Total possible kits: 18\n",
            "\n",
            "=== All Possible Kits ===\n",
            "1. Jersey: Red, Shorts: Black, Shoes: Running\n",
            "2. Jersey: Red, Shorts: Black, Shoes: Sneakers\n",
            "3. Jersey: Red, Shorts: Black, Shoes: Spikes\n",
            "4. Jersey: Red, Shorts: White, Shoes: Running\n",
            "5. Jersey: Red, Shorts: White, Shoes: Sneakers\n",
            "6. Jersey: Red, Shorts: White, Shoes: Spikes\n",
            "7. Jersey: Blue, Shorts: Black, Shoes: Running\n",
            "8. Jersey: Blue, Shorts: Black, Shoes: Sneakers\n",
            "9. Jersey: Blue, Shorts: Black, Shoes: Spikes\n",
            "10. Jersey: Blue, Shorts: White, Shoes: Running\n",
            "11. Jersey: Blue, Shorts: White, Shoes: Sneakers\n",
            "12. Jersey: Blue, Shorts: White, Shoes: Spikes\n",
            "13. Jersey: White, Shorts: Black, Shoes: Running\n",
            "14. Jersey: White, Shorts: Black, Shoes: Sneakers\n",
            "15. Jersey: White, Shorts: Black, Shoes: Spikes\n",
            "16. Jersey: White, Shorts: White, Shoes: Running\n",
            "17. Jersey: White, Shorts: White, Shoes: Sneakers\n",
            "18. Jersey: White, Shorts: White, Shoes: Spikes\n",
            "\n",
            "✅ You chose: Jersey: Red, Shorts: Black, Shoes: Sneakers\n"
          ]
        }
      ]
    }
  ]
}